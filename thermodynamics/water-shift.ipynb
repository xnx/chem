{
 "cells": [
  {
   "cell_type": "markdown",
   "id": "d1d2ab29-6936-4334-963b-dacdf198a5d9",
   "metadata": {},
   "source": [
    "# The Water-gas shift reaction\n",
    "\n",
    "The [water–gas shift reaction](https://en.wikipedia.org/wiki/Water%E2%80%93gas_shift_reaction) is a gas-phase reaction, widely used in industry, between carbon monoxide and water to form carbon dioxide and hydrogen:\n",
    "\n",
    "$$\n",
    "\\mathrm{CO(g)} + \\mathrm{H_2O(g)} \\rightleftharpoons \\mathrm{CO_2(g)} + \\mathrm{H_2(g)}\n",
    "$$\n",
    "\n",
    "This equilibrium can be analysed in terms of the Gibbs free energy of its constituents as a function of composition and temperature:\n",
    "\n",
    "$$\n",
    "nG_\\mathrm{m} = \\sum_\\mathrm{J} n_\\mathrm{J} \\left[ RT \\Delta_\\mathrm{f}G_\\mathrm{m, J}^\\ominus(T) + RT\\ln \\left( x_\\mathrm{J} \\frac{p}{p^\\ominus} \\right) \\right],\n",
    "$$\n",
    "\n",
    "where $n_\\mathrm{J}$ is the amount of component $\\mathrm{J}$, $\\Delta_\\mathrm{f}G_\\mathrm{m, J}^\\ominus(T)$ is the standard molar Gibbs free energy of formation of $\\mathrm{J}$ at temperature $T$, $x_\\mathrm{J} = n_\\mathrm{J} / n$ is the mole fraction of $\\mathrm{J}$ and $p$ is the total pressure. At the equilibrium composition $nG_\\mathrm{m}$ is a minimum.\n",
    "\n",
    "The formation reactions are:\n",
    "\n",
    "\\begin{align*}\n",
    "\\textstyle \\mathrm{C(gr)} + \\frac{1}{2}\\mathrm{O_2(g)} &\\rightarrow \\mathrm{CO(g)}\\\\\n",
    "\\textstyle \\mathrm{H_2(g)} + \\frac{1}{2}\\mathrm{O_2(g)} &\\rightarrow \\mathrm{H_2O(g)}\\\\\n",
    "\\mathrm{C(gr)} + \\mathrm{O_2(g)} &\\rightarrow \\mathrm{CO_2(g)}\\\\\n",
    "\\end{align*}\n",
    "\n",
    "so $\\Delta_\\mathrm{f}G_\\mathrm{m, J}^\\ominus(T_\\mathrm{ref})$ can be calculated for the species $\\mathrm{J} = \\mathrm{CO(g)}, \\mathrm{H_2O(g)}, \\mathrm{CO_2(g)}, \\mathrm{H_2(g)}$ from tabulated thermodynamic data at the reference temperature $T_\\mathrm{ref}=298\\;\\mathrm{K}$ as $\\Delta_\\mathrm{f}G_\\mathrm{m,J}^\\ominus(T_\\mathrm{ref}) = \\Delta_\\mathrm{f}H_\\mathrm{m,J}^\\ominus(T_\\mathrm{ref}) - T_\\mathrm{ref}\\Delta_\\mathrm{f}S_\\mathrm{m,J}^\\ominus(T_\\mathrm{ref})$.\n",
    "\n",
    "$\\Delta_\\mathrm{f}G_\\mathrm{m,J}^\\ominus(T)$ depends on temperature through the [Gibbs-Helmholtz equation](https://en.wikipedia.org/wiki/Gibbs%E2%80%93Helmholtz_equation):\n",
    "\n",
    "$$\n",
    "\\frac{\\mathrm{d}\\Delta_\\mathrm{f}G_\\mathrm{m,J}^\\ominus(T) / T}{\\mathrm{d}T} = -\\frac{\\Delta_\\mathrm{f}H_\\mathrm{m, J}^\\ominus(\\mathrm{T})}{T^2}.\n",
    "$$\n",
    "\n",
    "This last equation can be integrated with respect to temperature, with the temperature-dependence of the enthalpy of formation obeying:\n",
    "\n",
    "$$\n",
    "\\Delta_\\mathrm{f}H_\\mathrm{m, J}^\\ominus(\\mathrm{T}) = \\Delta_\\mathrm{f}H_\\mathrm{m, J}^\\ominus(\\mathrm{T_\\mathrm{ref}}) + \\int_{T_\\mathrm{ref}}^{T} \\Delta_\\mathrm{f}C_{p, \\mathrm{m, J}}^\\ominus(T) \\,\\mathrm{d}T,\n",
    "$$\n",
    "\n",
    "where $\\Delta_\\mathrm{f}C_{p, \\mathrm{m, J}}^\\ominus(T)$ is the difference in heat capacity between species $\\mathrm{J}$ and its component atoms in their standard state, e.g. $\\Delta_\\mathrm{f}C_{p, \\mathrm{m, CO}}^\\ominus(T) = C_{p, \\mathrm{m, CO}}^\\ominus(T) - C_{p, \\mathrm{m, C}}^\\ominus(T) - \\frac{1}{2}C_{p, \\mathrm{m, O_2}}^\\ominus(T)$. The temperature dependence of the heat capacities of individual species is provided by a fit to the the data in the [NIST-JANAF Thermochemical Tables](https://janaf.nist.gov/): \n",
    "\n",
    "$$\n",
    "C_{p, \\mathrm{m}}^\\ominus(T) = A + Bt + Ct^2 + Dt^3, \\quad \\mathrm{where} \\; t = \\frac{T/\\mathrm{K}}{1000}.\n",
    "$$\n",
    "\n",
    "With this in place (and after some calculus), the Gibbs free energy for any composition can be calculated as a function of temperature. The plots of $nG_\\mathrm{m}/RT$ with composition for four different temperatures are shown below; the equilibrium concentration in each case at is the minimum of these curves."
   ]
  },
  {
   "cell_type": "code",
   "execution_count": 1,
   "id": "f68c2b15-8290-4467-ac4d-4860054579c7",
   "metadata": {},
   "outputs": [],
   "source": [
    "import numpy as np\n",
    "from scipy.constants import R\n",
    "import matplotlib.pyplot as plt\n",
    "Tref = 298.15    # Reference temperature, K\n",
    "pstd = 1         # Standard pressure, bar"
   ]
  },
  {
   "cell_type": "code",
   "execution_count": 2,
   "id": "362b3546-c53d-4c06-8b4e-9cb7eac9934e",
   "metadata": {},
   "outputs": [],
   "source": [
    "class Compound:\n",
    "    \"\"\"\n",
    "    A class representing a chemical compound with defined\n",
    "    formula and phase.\n",
    "    \"\"\"\n",
    "    \n",
    "    def __init__(self, formula, phase, DfHmo, Smo, Cp_coeffs):\n",
    "        \"\"\"\n",
    "        Initialize the Compound object with its formula,\n",
    "        phase, standard molar formation enthalpy (kJ.mol-1), standard\n",
    "        entropy (J.K-1.mol-1) and heat capacity temperature-dependence\n",
    "        coefficients.   \n",
    "        \"\"\"\n",
    "        self.formula, self.phase = formula, phase\n",
    "        self.DfHmo, self.Smo = DfHmo, Smo\n",
    "        self.Cp_coeffs = dict(zip(\"ABCD\", Cp_coeffs))\n",
    "\n",
    "    def __repr__(self):\n",
    "        \"\"\"String representation of the Compound.\"\"\"\n",
    "        return f\"{self.formula}({self.phase})\"\n",
    "\n",
    "C = Compound('C', 'gr', 0, 5.6, [8.43, 0, 0, 0])\n",
    "O2 = Compound('O2', 'g', 0, 205.15, [25.15899701, 15.45182265, -7.08291124, 1.24519819])\n",
    "H2 = Compound('H2', 'g', 0, 130.68, [29.35864238, -2.30374938, 4.0864225, -0.84549361])\n",
    "H2O = Compound('H2O', 'g', -241.826, 188.835, [31.65695517, 3.84459406, 8.47064074, -2.77385035])\n",
    "CO = Compound('CO', 'g', -110.53, 197.66, [27.48525388, 4.25879701, 2.50107857, -1.24204472])\n",
    "CO2 = Compound('CO2', 'g', -393.52, 213.79, [23.04911248, 56.90377511, -31.87688451, 6.4056037])"
   ]
  },
  {
   "cell_type": "code",
   "execution_count": 3,
   "id": "98ff3ab9-cf99-45f2-83d8-8613189ace89",
   "metadata": {},
   "outputs": [],
   "source": [
    "class Reaction:\n",
    "    \"\"\"\n",
    "    A class representing a chemical reaction between\n",
    "    reactant and product Compounds.\n",
    "    \"\"\"\n",
    "\n",
    "    def __init__(self, reactants, products):\n",
    "        \"\"\"\n",
    "        Initalize the Reaction object with reactants and\n",
    "        products provided as dictionaries of\n",
    "        Compound: stoichiometry key-value pairs.\n",
    "        \"\"\"\n",
    "        \n",
    "        self.reactants = reactants\n",
    "        self.products = products\n",
    "        # For convenience, create a dictionary of all\n",
    "        # species with positive stoichiometries for products\n",
    "        # and negative stoichiometries for reactants.\n",
    "        self.species = self.products.copy()\n",
    "        for compound, stoich in reactants.items():\n",
    "            self.species[compound] = -stoich\n",
    "\n",
    "    def calc_DrSmo_ref(self):\n",
    "        \"\"\"Return the standard molar entropy of reaction in J.K-1.mol-1.\"\"\"\n",
    "        DrSmo = 0\n",
    "        for compound, stoich in self.species.items():\n",
    "            DrSmo += stoich * compound.Smo\n",
    "        return DrSmo\n",
    "\n",
    "    def calc_DrHmo_ref(self):\n",
    "        \"\"\"Return the standard molar enthalpy of reaction in kJ.mol-1.\"\"\"\n",
    "        DrHmo = 0\n",
    "        for compound, stoich in self.species.items():\n",
    "            DrHmo += stoich * compound.DfHmo\n",
    "        return DrHmo\n",
    "\n",
    "    def calc_DrGmo_ref(self):\n",
    "        \"\"\"\n",
    "        Return the standard molar Gibbs free energy in kJ.mol-1 of\n",
    "        reaction at the reference temperature, Tref.\n",
    "        \"\"\"\n",
    "        return self.calc_DrHmo_ref() - Tref * self.calc_DrSmo_ref() / 1000"
   ]
  },
  {
   "cell_type": "code",
   "execution_count": 4,
   "id": "a1640b7a-b7b0-4cb4-b249-7b3a771e906d",
   "metadata": {},
   "outputs": [],
   "source": [
    "# The formation reactants for CO2(g), CO(g), and H2O(g).\n",
    "CO2_formation = Reaction({C: 1, O2: 1}, {CO2: 1})\n",
    "CO_formation = Reaction({C: 1, O2: 0.5}, {CO: 1})\n",
    "H2O_formation = Reaction({H2: 1, O2: 0.5}, {H2O: 1})\n",
    "formation_reactions = {\"CO2(g)\": CO2_formation, \"CO(g)\": CO_formation, \"H2O(g)\": H2O_formation}"
   ]
  },
  {
   "cell_type": "code",
   "execution_count": 5,
   "id": "ccbe0688-dc02-4265-9a5a-65f8b57162e5",
   "metadata": {},
   "outputs": [],
   "source": [
    "# Calculate the standard enthalpies and free energies of \n",
    "# reaction at temperature Tref. NB these are zero by\n",
    "# definition for H2(g).\n",
    "DfHmo_ref = {\n",
    "    \"CO(g)\": CO_formation.calc_DrHmo_ref(),\n",
    "    \"CO2(g)\": CO2_formation.calc_DrHmo_ref(),\n",
    "    \"H2O(g)\": H2O_formation.calc_DrHmo_ref(),\n",
    "    \"H2(g)\": 0\n",
    "}\n",
    "DfGmo_ref = {\n",
    "    \"CO(g)\": CO_formation.calc_DrGmo_ref(),\n",
    "    \"CO2(g)\": CO2_formation.calc_DrGmo_ref(),\n",
    "    \"H2O(g)\": H2O_formation.calc_DrGmo_ref(),\n",
    "    \"H2(g)\": 0\n",
    "}"
   ]
  },
  {
   "cell_type": "code",
   "execution_count": 6,
   "id": "86f7cbc4-4d7d-46cd-b138-23c05a68a20a",
   "metadata": {},
   "outputs": [],
   "source": [
    "def get_DfCp_coeffs(T):\n",
    "    \"\"\"\n",
    "    Return the coefficients, valid at temperature T, for the heat capacity\n",
    "    change for the formation reactions of CO(g), CO2(g) and H2O(g) in a\n",
    "    dictionary of species: {\"CO(g)\": {'A': ..., 'B': ...}, ...}.\n",
    "    \"\"\"\n",
    "\n",
    "    # Initialize coefficients to zero.\n",
    "    DfCp = dict((formula, dict((c, 0) for c in \"ABCD\"))\n",
    "                    for formula in (\"CO(g)\", \"CO2(g)\", \"H2O(g)\", \"H2(g)\"))\n",
    "    for formation_species in (\"CO(g)\", \"CO2(g)\", \"H2O(g)\"):\n",
    "        formation_reaction = formation_reactions[formation_species]\n",
    "        for compound, stoich in formation_reaction.species.items():\n",
    "            for c in \"ABCD\":\n",
    "                DfCp[formation_species][c] += stoich * compound.Cp_coeffs[c]\n",
    "    return DfCp"
   ]
  },
  {
   "cell_type": "code",
   "execution_count": 11,
   "id": "45606149-2955-44f9-87b7-26f8ede70aab",
   "metadata": {},
   "outputs": [],
   "source": [
    "def g(T, formation_species, DfCp):\n",
    "    \"\"\"\n",
    "    This term in the expression for nG/RT derives from integrating\n",
    "    (twice) the heat capacity change on formation of the component\n",
    "    species with respect to temperature.\n",
    "    \"\"\"\n",
    "    DA, DB, DC, DD = (DfCp[formation_species][c] for c in \"ABCD\")\n",
    "    t, tref = T/1000, Tref/1000\n",
    "    f = 1/t - 1/tref\n",
    "    return (DA * (np.log(t / tref) + tref * f)\n",
    "            + DB/2 * (t - tref + tref**2 * f)\n",
    "            + DC/3 * ((t**2 - tref**2) / 2 + tref**3 * f)\n",
    "            + DD/4 * ((t**3 - tref**3) / 3 + tref**4 * f)\n",
    "           ) / 1000\n",
    "\n",
    "def calc_DfGmo(T, formation_species, DfCp):\n",
    "    \"\"\"\n",
    "    Return the standard Gibbs free energy of formation of formation_species\n",
    "    at temperature T from the integrated Gibbs-Helmholtz equation.\n",
    "    \"\"\"\n",
    "    DfGmo_over_T = (DfGmo_ref[formation_species] / Tref\n",
    "                    + DfHmo_ref[formation_species] * (1/T - 1/Tref)\n",
    "                    - g(T, formation_species, DfCp)\n",
    "                   )\n",
    "    return DfGmo_over_T * T"
   ]
  },
  {
   "cell_type": "code",
   "execution_count": 12,
   "id": "034ffeca-ebde-4c30-aa38-b31fffa68a1e",
   "metadata": {},
   "outputs": [],
   "source": [
    "# Start with 1 mol of CO(g) and 1 mol of H2O(g) reactants only.\n",
    "nin = {\"CO(g)\": 1, \"H2O(g)\": 1, \"CO2(g)\": 0, \"H2(g)\": 0}\n",
    "\n",
    "def calc_nG_over_RT(xi, T, DfCp):\n",
    "    \"\"\"\n",
    "    Return the quantity nG/RT for temperature T and extent of\n",
    "    reaction, xi: xi is the amount of CO(g) reacted.\n",
    "    \"\"\"\n",
    "    nout = {\"CO(g)\": nin[\"CO(g)\"] - xi,\n",
    "            \"H2O(g)\": nin[\"H2O(g)\"] - xi,\n",
    "            \"CO2(g)\": nin[\"CO2(g)\"] + xi,\n",
    "            \"H2(g)\": nin[\"H2(g)\"] + xi}\n",
    "    ntot = sum(nout.values())\n",
    "    nG_over_RT = 0\n",
    "    for species in (\"CO(g)\", \"H2O(g)\", \"CO2(g)\", \"H2(g)\"):\n",
    "        DfGmo = calc_DfGmo(T, species, DfCp)\n",
    "        x = nout[species] / ntot\n",
    "        nG_over_RT += nout[species] * (DfGmo / R / T * 1000 + np.log(x * pstd))\n",
    "    return nG_over_RT"
   ]
  },
  {
   "cell_type": "code",
   "execution_count": 13,
   "id": "67b20792-30c7-4552-8de8-5857c449dd55",
   "metadata": {},
   "outputs": [],
   "source": [
    "def plot_nG_over_RT(T, ax):\n",
    "    \"\"\"Plot nG/RT vs. xi on Matplotlib Axes ax.\"\"\"\n",
    "    DfCp = get_DfCp_coeffs(T)\n",
    "    xi_grid = np.arange(0.01, 1, 0.01)\n",
    "    nG_over_RT = np.zeros(xi_grid.shape) \n",
    "    for i, xi in enumerate(xi_grid):\n",
    "        nG_over_RT[i] = calc_nG_over_RT(xi, T, DfCp)\n",
    "    ax.plot(xi_grid, nG_over_RT)\n",
    "    ax.set_xlabel(\"xi /mol\")\n",
    "    ax.set_ylabel(\"nG/RT\")\n",
    "    ax.text(0.5, 0.7, f\"{T} K\", transform=ax.transAxes, ha=\"center\", va=\"center\")"
   ]
  },
  {
   "cell_type": "code",
   "execution_count": 14,
   "id": "af6c6732-5590-4cbb-9023-b002ebd0b356",
   "metadata": {},
   "outputs": [
    {
     "data": {
      "image/png": "[encoded data removed]",
      "text/plain": [
       "<Figure size 640x480 with 4 Axes>"
      ]
     },
     "metadata": {},
     "output_type": "display_data"
    }
   ],
   "source": [
    "fig, axes = plt.subplots(nrows=2, ncols=2)\n",
    "plot_nG_over_RT(500, axes[0][0])\n",
    "plot_nG_over_RT(1000, axes[0][1])\n",
    "plot_nG_over_RT(1500, axes[1][0])\n",
    "plot_nG_over_RT(2000, axes[1][1])\n",
    "plt.tight_layout()"
   ]
  },
  {
   "cell_type": "markdown",
   "id": "99aeb57f-0a12-42d9-9198-5649ad56921d",
   "metadata": {},
   "source": [
    "The equilibrium position of the composition occurs at the minimum of $nG_\\mathrm{m}$, which can be found numerically using `scipy.optimize.minimize`, constraining the reaction extent (number of moles of CO reacted) to be between 0 and 1 mol, since there is 1 mol initially."
   ]
  },
  {
   "cell_type": "code",
   "execution_count": 16,
   "id": "b5f12362-e271-4a40-8a61-a7130a1f62e9",
   "metadata": {},
   "outputs": [],
   "source": [
    "from scipy.optimize import minimize\n",
    "def get_K(T):\n",
    "    DfCp = get_DfCp_coeffs(T)\n",
    "    cons = ({'type': 'ineq', 'fun': lambda X: X[0]},     # xi > 0\n",
    "            {'type': 'ineq', 'fun': lambda X: 1-X[0]})   # xi < 1\n",
    "    res = minimize(calc_nG_over_RT, (0.1,), args=(T, DfCp), method=\"slsqp\",\n",
    "                   constraints=cons)\n",
    "    x = res.x[0]\n",
    "    K = x**2 / (1-x)**2\n",
    "    return K"
   ]
  },
  {
   "cell_type": "code",
   "execution_count": 17,
   "id": "aa4b9317-995f-41c4-9e5a-4265b5c55679",
   "metadata": {},
   "outputs": [
    {
     "name": "stderr",
     "output_type": "stream",
     "text": [
      "/var/folders/gv/kskd42kn4b38bq55919b71y40000gn/T/ipykernel_43140/770963320.py:18: RuntimeWarning: invalid value encountered in log\n",
      "  nG_over_RT += nout[species] * (DfGmo / R / T * 1000 + np.log(x * pstd))\n",
      "/var/folders/gv/kskd42kn4b38bq55919b71y40000gn/T/ipykernel_43140/770963320.py:18: RuntimeWarning: divide by zero encountered in log\n",
      "  nG_over_RT += nout[species] * (DfGmo / R / T * 1000 + np.log(x * pstd))\n",
      "/var/folders/gv/kskd42kn4b38bq55919b71y40000gn/T/ipykernel_43140/770963320.py:18: RuntimeWarning: invalid value encountered in multiply\n",
      "  nG_over_RT += nout[species] * (DfGmo / R / T * 1000 + np.log(x * pstd))\n"
     ]
    },
    {
     "data": {
      "text/plain": [
       "[137.03092238027537,\n",
       " 1.4040566158667849,\n",
       " 0.37749729566513246,\n",
       " 0.2128298922078678]"
      ]
     },
     "execution_count": 17,
     "metadata": {},
     "output_type": "execute_result"
    }
   ],
   "source": [
    "K = []\n",
    "for T in (500, 1000, 1500, 2000):\n",
    "    K.append(get_K(T))\n",
    "K"
   ]
  },
  {
   "cell_type": "markdown",
   "id": "0b54c4ec-6372-4ee5-a18a-30bdaa3a24a2",
   "metadata": {},
   "source": [
    "The comparison with the following fitted function given by Catilin Callaghan in her [2006 PhD thesis](https://digital.wpi.edu/concern/etds/000000107?locale=en) is pretty good:\n",
    "\n",
    "$$\n",
    "\\log_{10} K = -2.4198 + 0.0003856T + \\frac{2180.6}{T}.\n",
    "$$"
   ]
  },
  {
   "cell_type": "code",
   "execution_count": 18,
   "id": "94f2d363-8b48-4d8c-a66c-a74d8b0caf80",
   "metadata": {},
   "outputs": [
    {
     "name": "stdout",
     "output_type": "stream",
     "text": [
      "136.20717952990907\n",
      "1.4008769839545847\n",
      "0.40957489947329023\n",
      "0.276503096983568\n"
     ]
    }
   ],
   "source": [
    "def Keq(T):\n",
    "    return 10**(-2.4198 + 0.0003856*T + 2180.6/T)\n",
    "for T in (500, 1000, 1500, 2000):\n",
    "    print(Keq(T))"
   ]
  },
  {
   "cell_type": "code",
   "execution_count": null,
   "id": "8b6085b6-3c11-461d-8683-a014ae73d57b",
   "metadata": {},
   "outputs": [],
   "source": []
  }
 ],
 "metadata": {
  "kernelspec": {
   "display_name": "Python 3 (ipykernel)",
   "language": "python",
   "name": "python3"
  },
  "language_info": {
   "codemirror_mode": {
    "name": "ipython",
    "version": 3
   },
   "file_extension": ".py",
   "mimetype": "text/x-python",
   "name": "python",
   "nbconvert_exporter": "python",
   "pygments_lexer": "ipython3",
   "version": "3.11.5"
  }
 },
 "nbformat": 4,
 "nbformat_minor": 5
}
