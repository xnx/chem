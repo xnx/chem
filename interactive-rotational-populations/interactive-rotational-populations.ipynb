{
 "cells": [
  {
   "cell_type": "markdown",
   "id": "87ab3c54-afee-4e3f-900e-94bbd5f7ca4e",
   "metadata": {},
   "source": [
    "# Interactive Rotational Energy Level Populations"
   ]
  },
  {
   "cell_type": "markdown",
   "id": "03201805-590d-41d6-8779-28061ceaaa38",
   "metadata": {},
   "source": [
    "To use this Jupyter Notebook, it would be best to run it using Jupyter Lab within a virtual environment with the packages listed in the file [requirements.txt](./requirements.txt) installed."
   ]
  },
  {
   "cell_type": "code",
   "execution_count": 1,
   "id": "e4890f8f-78bf-4306-ac66-da25222a1df7",
   "metadata": {},
   "outputs": [],
   "source": [
    "%matplotlib inline"
   ]
  },
  {
   "cell_type": "code",
   "execution_count": 2,
   "id": "e76b85b0-0de4-463e-9822-5140badd8437",
   "metadata": {},
   "outputs": [],
   "source": [
    "# Some imports to make the slider widget and interactivity work.\n",
    "from ipywidgets import interactive\n",
    "from IPython.display import display"
   ]
  },
  {
   "cell_type": "code",
   "execution_count": 3,
   "id": "4d5d6fdc-c602-46bd-8890-bd0fb1fd3fc7",
   "metadata": {},
   "outputs": [],
   "source": [
    "import numpy as np\n",
    "import matplotlib.pyplot as plt\n",
    "from scipy.constants import k as kB, h, c\n",
    "# For this section we will work with the speed of light, c in cm.s-1\n",
    "c *= 100"
   ]
  },
  {
   "cell_type": "code",
   "execution_count": 4,
   "id": "2eb4d065-ed9c-4770-8235-2a4259059c6c",
   "metadata": {},
   "outputs": [],
   "source": [
    "# Rotational constant of N2, cm-1.\n",
    "B = 1.99\n",
    "def get_energy(J, B):\n",
    "    \"\"\"Return the energy, in J, of the rotational state J.\"\"\"\n",
    "    return h * c * B * J * (J+1)\n",
    "\n",
    "# Set up a suitable grid of values for the rotational constant, J.\n",
    "Jmax = 20\n",
    "J = np.linspace(0, Jmax, Jmax+1, dtype=int)\n",
    "\n",
    "# The corresponding energy levels, in cm-1.\n",
    "E = get_energy(J, B) / h / c"
   ]
  },
  {
   "cell_type": "code",
   "execution_count": 5,
   "id": "a31b1dcf-b12f-41d2-a772-f2ccfcc14631",
   "metadata": {},
   "outputs": [],
   "source": [
    "def get_qrot(B, T):\n",
    "    \"\"\"Return the partition function at temperature T.\"\"\"\n",
    "    return kB * T / h / c / B\n",
    "\n",
    "def get_populations(J, B, T):\n",
    "    \"\"\"Return the fractional populations of each energy level.\"\"\"\n",
    "    E = get_energy(J, B)\n",
    "    qrot = get_qrot(B, T)\n",
    "    return (2*J + 1) * np.exp(-E / kB / T) / qrot"
   ]
  },
  {
   "cell_type": "code",
   "execution_count": 6,
   "id": "f299ac58-3eba-41cc-8745-b98e6fad97f7",
   "metadata": {},
   "outputs": [],
   "source": [
    "def plot_pops(T=300):\n",
    "    \"\"\"Plot the rotational populations on a stem-plot.\"\"\"\n",
    "    fig, ax = plt.subplots()\n",
    "    pops = get_populations(J, B, T)\n",
    "    ax.hlines(E, 0, 0.5, color='#eeeeee', zorder=0)\n",
    "    ax.set_ylabel(r'$\\tilde{E}\\;/\\mathrm{cm^{-1}}$')\n",
    "    ax.set_xlabel('fractional population')\n",
    "    \n",
    "    stem_data = ax.stem(E, pops, orientation='horizontal')"
   ]
  },
  {
   "cell_type": "code",
   "execution_count": 7,
   "id": "017a45ce-2c5a-4fbb-bb66-3f167207c139",
   "metadata": {},
   "outputs": [
    {
     "data": {
      "application/vnd.jupyter.widget-view+json": {
       "model_id": "b138d7dd5513432f90f961ad2c050240",
       "version_major": 2,
       "version_minor": 0
      },
      "text/plain": [
       "interactive(children=(IntSlider(value=300, description='T /K', max=500, min=10), Output()), _dom_classes=('wid…"
      ]
     },
     "metadata": {},
     "output_type": "display_data"
    }
   ],
   "source": [
    "# Make the interactive plot with a slider for the temperature.\n",
    "w = interactive(plot_pops, T=(10, 500))\n",
    "w.children[0].description = 'T /K'\n",
    "display(w)"
   ]
  }
 ],
 "metadata": {
  "kernelspec": {
   "display_name": "Python 3 (ipykernel)",
   "language": "python",
   "name": "python3"
  },
  "language_info": {
   "codemirror_mode": {
    "name": "ipython",
    "version": 3
   },
   "file_extension": ".py",
   "mimetype": "text/x-python",
   "name": "python",
   "nbconvert_exporter": "python",
   "pygments_lexer": "ipython3",
   "version": "3.11.5"
  }
 },
 "nbformat": 4,
 "nbformat_minor": 5
}
